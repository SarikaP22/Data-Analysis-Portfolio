{
 "cells": [
  {
   "cell_type": "markdown",
   "id": "d67df74f",
   "metadata": {},
   "source": [
    "# Streaming Platform Analysis\n"
   ]
  },
  {
   "cell_type": "code",
   "execution_count": 1,
   "id": "277c5162",
   "metadata": {},
   "outputs": [],
   "source": [
    "# Import Required Libraries\n",
    "import pandas as pd\n",
    "import numpy as np\n",
    "import datetime as dt\n",
    "import matplotlib.pyplot as plt\n",
    "import seaborn as sns"
   ]
  },
  {
   "cell_type": "markdown",
   "id": "dd3d1f0e",
   "metadata": {},
   "source": [
    "### Objective 1: Profile & QA the data"
   ]
  },
  {
   "cell_type": "code",
   "execution_count": 23,
   "id": "62ba8baf",
   "metadata": {},
   "outputs": [],
   "source": [
    "# Load Data\n",
    "data = pd.read_csv(\"Streaming-Data/data2.csv\")"
   ]
  },
  {
   "cell_type": "code",
   "execution_count": 24,
   "id": "aaf4e754",
   "metadata": {},
   "outputs": [
    {
     "data": {
      "text/html": [
       "<div>\n",
       "<style scoped>\n",
       "    .dataframe tbody tr th:only-of-type {\n",
       "        vertical-align: middle;\n",
       "    }\n",
       "\n",
       "    .dataframe tbody tr th {\n",
       "        vertical-align: top;\n",
       "    }\n",
       "\n",
       "    .dataframe thead th {\n",
       "        text-align: right;\n",
       "    }\n",
       "</style>\n",
       "<table border=\"1\" class=\"dataframe\">\n",
       "  <thead>\n",
       "    <tr style=\"text-align: right;\">\n",
       "      <th></th>\n",
       "      <th>id</th>\n",
       "      <th>date</th>\n",
       "      <th>time_slot</th>\n",
       "      <th>total_user_time_spent_in_mins</th>\n",
       "      <th>total_ads_watched_in_mins</th>\n",
       "      <th>ads_clicked</th>\n",
       "      <th>user_time_spent_versionB_in_mins</th>\n",
       "      <th>ads_watched_vesionB_in_mins</th>\n",
       "      <th>ads_clicked_versionB</th>\n",
       "    </tr>\n",
       "  </thead>\n",
       "  <tbody>\n",
       "    <tr>\n",
       "      <th>0</th>\n",
       "      <td>0</td>\n",
       "      <td>2020-06-01</td>\n",
       "      <td>00:00-05:59</td>\n",
       "      <td>324994</td>\n",
       "      <td>2949</td>\n",
       "      <td>12</td>\n",
       "      <td>214496</td>\n",
       "      <td>2949</td>\n",
       "      <td>8</td>\n",
       "    </tr>\n",
       "    <tr>\n",
       "      <th>1</th>\n",
       "      <td>1</td>\n",
       "      <td>-</td>\n",
       "      <td>06:00-11:59</td>\n",
       "      <td>399151</td>\n",
       "      <td>33612</td>\n",
       "      <td>0</td>\n",
       "      <td>275414</td>\n",
       "      <td>5151</td>\n",
       "      <td>0</td>\n",
       "    </tr>\n",
       "    <tr>\n",
       "      <th>2</th>\n",
       "      <td>2</td>\n",
       "      <td>-</td>\n",
       "      <td>12:00-17:59</td>\n",
       "      <td>573081</td>\n",
       "      <td>34410</td>\n",
       "      <td>7</td>\n",
       "      <td>229232</td>\n",
       "      <td>2045</td>\n",
       "      <td>4</td>\n",
       "    </tr>\n",
       "    <tr>\n",
       "      <th>3</th>\n",
       "      <td>3</td>\n",
       "      <td>-</td>\n",
       "      <td>18:00-23:59</td>\n",
       "      <td>276034</td>\n",
       "      <td>5869</td>\n",
       "      <td>22</td>\n",
       "      <td>69008</td>\n",
       "      <td>1934</td>\n",
       "      <td>6</td>\n",
       "    </tr>\n",
       "    <tr>\n",
       "      <th>4</th>\n",
       "      <td>4</td>\n",
       "      <td>2020-06-02</td>\n",
       "      <td>00:00-05:59</td>\n",
       "      <td>440189</td>\n",
       "      <td>34321</td>\n",
       "      <td>15</td>\n",
       "      <td>286122</td>\n",
       "      <td>14176</td>\n",
       "      <td>7</td>\n",
       "    </tr>\n",
       "    <tr>\n",
       "      <th>5</th>\n",
       "      <td>5</td>\n",
       "      <td>-</td>\n",
       "      <td>06:00-11:59</td>\n",
       "      <td>378407</td>\n",
       "      <td>22500</td>\n",
       "      <td>10</td>\n",
       "      <td>121090</td>\n",
       "      <td>2106</td>\n",
       "      <td>6</td>\n",
       "    </tr>\n",
       "    <tr>\n",
       "      <th>6</th>\n",
       "      <td>6</td>\n",
       "      <td>-</td>\n",
       "      <td>12:00-17:59</td>\n",
       "      <td>439008</td>\n",
       "      <td>36351</td>\n",
       "      <td>22</td>\n",
       "      <td>316085</td>\n",
       "      <td>6564</td>\n",
       "      <td>6</td>\n",
       "    </tr>\n",
       "    <tr>\n",
       "      <th>7</th>\n",
       "      <td>7</td>\n",
       "      <td>-</td>\n",
       "      <td>18:00-23:59</td>\n",
       "      <td>286749</td>\n",
       "      <td>17542</td>\n",
       "      <td>27</td>\n",
       "      <td>117567</td>\n",
       "      <td>729</td>\n",
       "      <td>13</td>\n",
       "    </tr>\n",
       "    <tr>\n",
       "      <th>8</th>\n",
       "      <td>8</td>\n",
       "      <td>2020-06-03</td>\n",
       "      <td>00:00-05:59</td>\n",
       "      <td>481207</td>\n",
       "      <td>34803</td>\n",
       "      <td>15</td>\n",
       "      <td>312784</td>\n",
       "      <td>4801</td>\n",
       "      <td>10</td>\n",
       "    </tr>\n",
       "    <tr>\n",
       "      <th>9</th>\n",
       "      <td>9</td>\n",
       "      <td>-</td>\n",
       "      <td>06:00-11:59</td>\n",
       "      <td>417256</td>\n",
       "      <td>32339</td>\n",
       "      <td>22</td>\n",
       "      <td>254526</td>\n",
       "      <td>12227</td>\n",
       "      <td>12</td>\n",
       "    </tr>\n",
       "  </tbody>\n",
       "</table>\n",
       "</div>"
      ],
      "text/plain": [
       "   id        date    time_slot  total_user_time_spent_in_mins  \\\n",
       "0   0  2020-06-01  00:00-05:59                         324994   \n",
       "1   1           -  06:00-11:59                         399151   \n",
       "2   2           -  12:00-17:59                         573081   \n",
       "3   3           -  18:00-23:59                         276034   \n",
       "4   4  2020-06-02  00:00-05:59                         440189   \n",
       "5   5           -  06:00-11:59                         378407   \n",
       "6   6           -  12:00-17:59                         439008   \n",
       "7   7           -  18:00-23:59                         286749   \n",
       "8   8  2020-06-03  00:00-05:59                         481207   \n",
       "9   9           -  06:00-11:59                         417256   \n",
       "\n",
       "   total_ads_watched_in_mins  ads_clicked  user_time_spent_versionB_in_mins  \\\n",
       "0                       2949           12                            214496   \n",
       "1                      33612            0                            275414   \n",
       "2                      34410            7                            229232   \n",
       "3                       5869           22                             69008   \n",
       "4                      34321           15                            286122   \n",
       "5                      22500           10                            121090   \n",
       "6                      36351           22                            316085   \n",
       "7                      17542           27                            117567   \n",
       "8                      34803           15                            312784   \n",
       "9                      32339           22                            254526   \n",
       "\n",
       "   ads_watched_vesionB_in_mins  ads_clicked_versionB  \n",
       "0                         2949                     8  \n",
       "1                         5151                     0  \n",
       "2                         2045                     4  \n",
       "3                         1934                     6  \n",
       "4                        14176                     7  \n",
       "5                         2106                     6  \n",
       "6                         6564                     6  \n",
       "7                          729                    13  \n",
       "8                         4801                    10  \n",
       "9                        12227                    12  "
      ]
     },
     "execution_count": 24,
     "metadata": {},
     "output_type": "execute_result"
    }
   ],
   "source": [
    "data.head(10)"
   ]
  },
  {
   "cell_type": "code",
   "execution_count": 25,
   "id": "455a8cff",
   "metadata": {},
   "outputs": [
    {
     "name": "stdout",
     "output_type": "stream",
     "text": [
      "<class 'pandas.core.frame.DataFrame'>\n",
      "RangeIndex: 120 entries, 0 to 119\n",
      "Data columns (total 9 columns):\n",
      " #   Column                            Non-Null Count  Dtype \n",
      "---  ------                            --------------  ----- \n",
      " 0   id                                120 non-null    int64 \n",
      " 1   date                              120 non-null    object\n",
      " 2   time_slot                         120 non-null    object\n",
      " 3   total_user_time_spent_in_mins     120 non-null    int64 \n",
      " 4   total_ads_watched_in_mins         120 non-null    int64 \n",
      " 5   ads_clicked                       120 non-null    int64 \n",
      " 6   user_time_spent_versionB_in_mins  120 non-null    int64 \n",
      " 7   ads_watched_vesionB_in_mins       120 non-null    int64 \n",
      " 8   ads_clicked_versionB              120 non-null    int64 \n",
      "dtypes: int64(7), object(2)\n",
      "memory usage: 8.6+ KB\n"
     ]
    }
   ],
   "source": [
    "data.info()"
   ]
  },
  {
   "cell_type": "markdown",
   "id": "a18c0551",
   "metadata": {},
   "source": [
    "#### Forward-filling the 'date' column by replacing '-' with a date"
   ]
  },
  {
   "cell_type": "code",
   "execution_count": 26,
   "id": "d7e00f82",
   "metadata": {},
   "outputs": [
    {
     "name": "stdout",
     "output_type": "stream",
     "text": [
      "<class 'pandas.core.frame.DataFrame'>\n",
      "RangeIndex: 120 entries, 0 to 119\n",
      "Data columns (total 9 columns):\n",
      " #   Column                            Non-Null Count  Dtype \n",
      "---  ------                            --------------  ----- \n",
      " 0   id                                120 non-null    int64 \n",
      " 1   date                              120 non-null    object\n",
      " 2   time_slot                         120 non-null    object\n",
      " 3   total_user_time_spent_in_mins     120 non-null    int64 \n",
      " 4   total_ads_watched_in_mins         120 non-null    int64 \n",
      " 5   ads_clicked                       120 non-null    int64 \n",
      " 6   user_time_spent_versionB_in_mins  120 non-null    int64 \n",
      " 7   ads_watched_vesionB_in_mins       120 non-null    int64 \n",
      " 8   ads_clicked_versionB              120 non-null    int64 \n",
      "dtypes: int64(7), object(2)\n",
      "memory usage: 8.6+ KB\n",
      "None\n"
     ]
    },
    {
     "data": {
      "text/html": [
       "<div>\n",
       "<style scoped>\n",
       "    .dataframe tbody tr th:only-of-type {\n",
       "        vertical-align: middle;\n",
       "    }\n",
       "\n",
       "    .dataframe tbody tr th {\n",
       "        vertical-align: top;\n",
       "    }\n",
       "\n",
       "    .dataframe thead th {\n",
       "        text-align: right;\n",
       "    }\n",
       "</style>\n",
       "<table border=\"1\" class=\"dataframe\">\n",
       "  <thead>\n",
       "    <tr style=\"text-align: right;\">\n",
       "      <th></th>\n",
       "      <th>id</th>\n",
       "      <th>date</th>\n",
       "      <th>time_slot</th>\n",
       "      <th>total_user_time_spent_in_mins</th>\n",
       "      <th>total_ads_watched_in_mins</th>\n",
       "      <th>ads_clicked</th>\n",
       "      <th>user_time_spent_versionB_in_mins</th>\n",
       "      <th>ads_watched_vesionB_in_mins</th>\n",
       "      <th>ads_clicked_versionB</th>\n",
       "    </tr>\n",
       "  </thead>\n",
       "  <tbody>\n",
       "    <tr>\n",
       "      <th>0</th>\n",
       "      <td>0</td>\n",
       "      <td>2020-06-01</td>\n",
       "      <td>00:00-05:59</td>\n",
       "      <td>324994</td>\n",
       "      <td>2949</td>\n",
       "      <td>12</td>\n",
       "      <td>214496</td>\n",
       "      <td>2949</td>\n",
       "      <td>8</td>\n",
       "    </tr>\n",
       "    <tr>\n",
       "      <th>1</th>\n",
       "      <td>1</td>\n",
       "      <td>2020-06-01</td>\n",
       "      <td>06:00-11:59</td>\n",
       "      <td>399151</td>\n",
       "      <td>33612</td>\n",
       "      <td>0</td>\n",
       "      <td>275414</td>\n",
       "      <td>5151</td>\n",
       "      <td>0</td>\n",
       "    </tr>\n",
       "    <tr>\n",
       "      <th>2</th>\n",
       "      <td>2</td>\n",
       "      <td>2020-06-01</td>\n",
       "      <td>12:00-17:59</td>\n",
       "      <td>573081</td>\n",
       "      <td>34410</td>\n",
       "      <td>7</td>\n",
       "      <td>229232</td>\n",
       "      <td>2045</td>\n",
       "      <td>4</td>\n",
       "    </tr>\n",
       "    <tr>\n",
       "      <th>3</th>\n",
       "      <td>3</td>\n",
       "      <td>2020-06-01</td>\n",
       "      <td>18:00-23:59</td>\n",
       "      <td>276034</td>\n",
       "      <td>5869</td>\n",
       "      <td>22</td>\n",
       "      <td>69008</td>\n",
       "      <td>1934</td>\n",
       "      <td>6</td>\n",
       "    </tr>\n",
       "    <tr>\n",
       "      <th>4</th>\n",
       "      <td>4</td>\n",
       "      <td>2020-06-02</td>\n",
       "      <td>00:00-05:59</td>\n",
       "      <td>440189</td>\n",
       "      <td>34321</td>\n",
       "      <td>15</td>\n",
       "      <td>286122</td>\n",
       "      <td>14176</td>\n",
       "      <td>7</td>\n",
       "    </tr>\n",
       "    <tr>\n",
       "      <th>5</th>\n",
       "      <td>5</td>\n",
       "      <td>2020-06-02</td>\n",
       "      <td>06:00-11:59</td>\n",
       "      <td>378407</td>\n",
       "      <td>22500</td>\n",
       "      <td>10</td>\n",
       "      <td>121090</td>\n",
       "      <td>2106</td>\n",
       "      <td>6</td>\n",
       "    </tr>\n",
       "    <tr>\n",
       "      <th>6</th>\n",
       "      <td>6</td>\n",
       "      <td>2020-06-02</td>\n",
       "      <td>12:00-17:59</td>\n",
       "      <td>439008</td>\n",
       "      <td>36351</td>\n",
       "      <td>22</td>\n",
       "      <td>316085</td>\n",
       "      <td>6564</td>\n",
       "      <td>6</td>\n",
       "    </tr>\n",
       "    <tr>\n",
       "      <th>7</th>\n",
       "      <td>7</td>\n",
       "      <td>2020-06-02</td>\n",
       "      <td>18:00-23:59</td>\n",
       "      <td>286749</td>\n",
       "      <td>17542</td>\n",
       "      <td>27</td>\n",
       "      <td>117567</td>\n",
       "      <td>729</td>\n",
       "      <td>13</td>\n",
       "    </tr>\n",
       "    <tr>\n",
       "      <th>8</th>\n",
       "      <td>8</td>\n",
       "      <td>2020-06-03</td>\n",
       "      <td>00:00-05:59</td>\n",
       "      <td>481207</td>\n",
       "      <td>34803</td>\n",
       "      <td>15</td>\n",
       "      <td>312784</td>\n",
       "      <td>4801</td>\n",
       "      <td>10</td>\n",
       "    </tr>\n",
       "    <tr>\n",
       "      <th>9</th>\n",
       "      <td>9</td>\n",
       "      <td>2020-06-03</td>\n",
       "      <td>06:00-11:59</td>\n",
       "      <td>417256</td>\n",
       "      <td>32339</td>\n",
       "      <td>22</td>\n",
       "      <td>254526</td>\n",
       "      <td>12227</td>\n",
       "      <td>12</td>\n",
       "    </tr>\n",
       "  </tbody>\n",
       "</table>\n",
       "</div>"
      ],
      "text/plain": [
       "   id        date    time_slot  total_user_time_spent_in_mins  \\\n",
       "0   0  2020-06-01  00:00-05:59                         324994   \n",
       "1   1  2020-06-01  06:00-11:59                         399151   \n",
       "2   2  2020-06-01  12:00-17:59                         573081   \n",
       "3   3  2020-06-01  18:00-23:59                         276034   \n",
       "4   4  2020-06-02  00:00-05:59                         440189   \n",
       "5   5  2020-06-02  06:00-11:59                         378407   \n",
       "6   6  2020-06-02  12:00-17:59                         439008   \n",
       "7   7  2020-06-02  18:00-23:59                         286749   \n",
       "8   8  2020-06-03  00:00-05:59                         481207   \n",
       "9   9  2020-06-03  06:00-11:59                         417256   \n",
       "\n",
       "   total_ads_watched_in_mins  ads_clicked  user_time_spent_versionB_in_mins  \\\n",
       "0                       2949           12                            214496   \n",
       "1                      33612            0                            275414   \n",
       "2                      34410            7                            229232   \n",
       "3                       5869           22                             69008   \n",
       "4                      34321           15                            286122   \n",
       "5                      22500           10                            121090   \n",
       "6                      36351           22                            316085   \n",
       "7                      17542           27                            117567   \n",
       "8                      34803           15                            312784   \n",
       "9                      32339           22                            254526   \n",
       "\n",
       "   ads_watched_vesionB_in_mins  ads_clicked_versionB  \n",
       "0                         2949                     8  \n",
       "1                         5151                     0  \n",
       "2                         2045                     4  \n",
       "3                         1934                     6  \n",
       "4                        14176                     7  \n",
       "5                         2106                     6  \n",
       "6                         6564                     6  \n",
       "7                          729                    13  \n",
       "8                         4801                    10  \n",
       "9                        12227                    12  "
      ]
     },
     "execution_count": 26,
     "metadata": {},
     "output_type": "execute_result"
    }
   ],
   "source": [
    "\n",
    "for index, row in data.iterrows():\n",
    "    if row['date'] != '-':\n",
    "        date_copy = pd.to_datetime(row['date']).date()  # get only the date part\n",
    "    else:\n",
    "        data.at[index, 'date'] = date_copy\n",
    "\n",
    "print(data.info())\n",
    "data.head(10)"
   ]
  },
  {
   "cell_type": "code",
   "execution_count": 27,
   "id": "b0c2dd8a",
   "metadata": {},
   "outputs": [
    {
     "data": {
      "text/html": [
       "<div>\n",
       "<style scoped>\n",
       "    .dataframe tbody tr th:only-of-type {\n",
       "        vertical-align: middle;\n",
       "    }\n",
       "\n",
       "    .dataframe tbody tr th {\n",
       "        vertical-align: top;\n",
       "    }\n",
       "\n",
       "    .dataframe thead th {\n",
       "        text-align: right;\n",
       "    }\n",
       "</style>\n",
       "<table border=\"1\" class=\"dataframe\">\n",
       "  <thead>\n",
       "    <tr style=\"text-align: right;\">\n",
       "      <th></th>\n",
       "      <th>id</th>\n",
       "      <th>total_user_time_spent_in_mins</th>\n",
       "      <th>total_ads_watched_in_mins</th>\n",
       "      <th>ads_clicked</th>\n",
       "      <th>user_time_spent_versionB_in_mins</th>\n",
       "      <th>ads_watched_vesionB_in_mins</th>\n",
       "      <th>ads_clicked_versionB</th>\n",
       "    </tr>\n",
       "  </thead>\n",
       "  <tbody>\n",
       "    <tr>\n",
       "      <th>count</th>\n",
       "      <td>120.000000</td>\n",
       "      <td>120.000000</td>\n",
       "      <td>120.000000</td>\n",
       "      <td>120.000000</td>\n",
       "      <td>120.000000</td>\n",
       "      <td>120.000000</td>\n",
       "      <td>120.000000</td>\n",
       "    </tr>\n",
       "    <tr>\n",
       "      <th>mean</th>\n",
       "      <td>59.500000</td>\n",
       "      <td>366175.866667</td>\n",
       "      <td>19056.925000</td>\n",
       "      <td>15.366667</td>\n",
       "      <td>178460.600000</td>\n",
       "      <td>6374.233333</td>\n",
       "      <td>7.300000</td>\n",
       "    </tr>\n",
       "    <tr>\n",
       "      <th>std</th>\n",
       "      <td>34.785054</td>\n",
       "      <td>104302.139577</td>\n",
       "      <td>12627.438913</td>\n",
       "      <td>9.537131</td>\n",
       "      <td>74772.402373</td>\n",
       "      <td>4985.369500</td>\n",
       "      <td>5.144304</td>\n",
       "    </tr>\n",
       "    <tr>\n",
       "      <th>min</th>\n",
       "      <td>0.000000</td>\n",
       "      <td>99220.000000</td>\n",
       "      <td>214.000000</td>\n",
       "      <td>0.000000</td>\n",
       "      <td>44103.000000</td>\n",
       "      <td>10.000000</td>\n",
       "      <td>0.000000</td>\n",
       "    </tr>\n",
       "    <tr>\n",
       "      <th>25%</th>\n",
       "      <td>29.750000</td>\n",
       "      <td>304001.500000</td>\n",
       "      <td>7693.250000</td>\n",
       "      <td>9.000000</td>\n",
       "      <td>117314.000000</td>\n",
       "      <td>2350.750000</td>\n",
       "      <td>3.000000</td>\n",
       "    </tr>\n",
       "    <tr>\n",
       "      <th>50%</th>\n",
       "      <td>59.500000</td>\n",
       "      <td>364830.000000</td>\n",
       "      <td>17663.000000</td>\n",
       "      <td>14.500000</td>\n",
       "      <td>162876.500000</td>\n",
       "      <td>5385.000000</td>\n",
       "      <td>6.500000</td>\n",
       "    </tr>\n",
       "    <tr>\n",
       "      <th>75%</th>\n",
       "      <td>89.250000</td>\n",
       "      <td>433745.250000</td>\n",
       "      <td>29109.750000</td>\n",
       "      <td>22.250000</td>\n",
       "      <td>225329.750000</td>\n",
       "      <td>9405.750000</td>\n",
       "      <td>11.000000</td>\n",
       "    </tr>\n",
       "    <tr>\n",
       "      <th>max</th>\n",
       "      <td>119.000000</td>\n",
       "      <td>618404.000000</td>\n",
       "      <td>54816.000000</td>\n",
       "      <td>39.000000</td>\n",
       "      <td>375540.000000</td>\n",
       "      <td>29073.000000</td>\n",
       "      <td>21.000000</td>\n",
       "    </tr>\n",
       "  </tbody>\n",
       "</table>\n",
       "</div>"
      ],
      "text/plain": [
       "               id  total_user_time_spent_in_mins  total_ads_watched_in_mins  \\\n",
       "count  120.000000                     120.000000                 120.000000   \n",
       "mean    59.500000                  366175.866667               19056.925000   \n",
       "std     34.785054                  104302.139577               12627.438913   \n",
       "min      0.000000                   99220.000000                 214.000000   \n",
       "25%     29.750000                  304001.500000                7693.250000   \n",
       "50%     59.500000                  364830.000000               17663.000000   \n",
       "75%     89.250000                  433745.250000               29109.750000   \n",
       "max    119.000000                  618404.000000               54816.000000   \n",
       "\n",
       "       ads_clicked  user_time_spent_versionB_in_mins  \\\n",
       "count   120.000000                        120.000000   \n",
       "mean     15.366667                     178460.600000   \n",
       "std       9.537131                      74772.402373   \n",
       "min       0.000000                      44103.000000   \n",
       "25%       9.000000                     117314.000000   \n",
       "50%      14.500000                     162876.500000   \n",
       "75%      22.250000                     225329.750000   \n",
       "max      39.000000                     375540.000000   \n",
       "\n",
       "       ads_watched_vesionB_in_mins  ads_clicked_versionB  \n",
       "count                   120.000000            120.000000  \n",
       "mean                   6374.233333              7.300000  \n",
       "std                    4985.369500              5.144304  \n",
       "min                      10.000000              0.000000  \n",
       "25%                    2350.750000              3.000000  \n",
       "50%                    5385.000000              6.500000  \n",
       "75%                    9405.750000             11.000000  \n",
       "max                   29073.000000             21.000000  "
      ]
     },
     "execution_count": 27,
     "metadata": {},
     "output_type": "execute_result"
    }
   ],
   "source": [
    "data.describe()"
   ]
  },
  {
   "cell_type": "markdown",
   "id": "58bb5db9",
   "metadata": {},
   "source": [
    "Assuming that the total_user_time_spent_in_mins, total_ads_watched_in_mins, ads_clicked were calculated correctly using the original values from versionA + versionB data, \n",
    "I will now create columns for versionA for these metrics."
   ]
  },
  {
   "cell_type": "code",
   "execution_count": 54,
   "id": "b4734c7b",
   "metadata": {},
   "outputs": [
    {
     "name": "stdout",
     "output_type": "stream",
     "text": [
      "<class 'pandas.core.frame.DataFrame'>\n",
      "RangeIndex: 120 entries, 0 to 119\n",
      "Data columns (total 14 columns):\n",
      " #   Column                            Non-Null Count  Dtype  \n",
      "---  ------                            --------------  -----  \n",
      " 0   id                                120 non-null    int64  \n",
      " 1   date                              120 non-null    object \n",
      " 2   time_slot                         120 non-null    object \n",
      " 3   total_user_time_spent_in_mins     120 non-null    int64  \n",
      " 4   total_ads_watched_in_mins         120 non-null    int64  \n",
      " 5   ads_clicked                       120 non-null    int64  \n",
      " 6   user_time_spent_versionB_in_mins  120 non-null    int64  \n",
      " 7   ads_watched_versionB_in_mins      120 non-null    int64  \n",
      " 8   ads_clicked_versionB              120 non-null    int64  \n",
      " 9   user_time_spent_versionA_in_mins  120 non-null    int64  \n",
      " 10  ads_watched_versionA_in_mins      120 non-null    int64  \n",
      " 11  ads_clicked_versionA              120 non-null    int64  \n",
      " 12  ads_clicked_ratio                 120 non-null    float64\n",
      " 13  ad_screen_time_ratio              120 non-null    float64\n",
      "dtypes: float64(2), int64(10), object(2)\n",
      "memory usage: 13.3+ KB\n",
      "       user_time_spent_versionB_in_mins  user_time_spent_versionA_in_mins\n",
      "count                        120.000000                        120.000000\n",
      "mean                      178460.600000                     187715.266667\n",
      "std                        74772.402373                      74665.443354\n",
      "min                        44103.000000                      40681.000000\n",
      "25%                       117314.000000                     142081.750000\n",
      "50%                       162876.500000                     171499.500000\n",
      "75%                       225329.750000                     223576.000000\n",
      "max                       375540.000000                     437216.000000\n"
     ]
    }
   ],
   "source": [
    "data.rename(columns={'ads_watched_vesionB_in_mins': 'ads_watched_versionB_in_mins'}, inplace=True)\n",
    "\n",
    "data['user_time_spent_versionA_in_mins'] = data['total_user_time_spent_in_mins'] - data['user_time_spent_versionB_in_mins']\n",
    "data['ads_watched_versionA_in_mins'] = data['total_ads_watched_in_mins'] - data['ads_watched_versionB_in_mins']\n",
    "data['ads_clicked_versionA'] = data['ads_clicked'] - data['ads_clicked_versionB']\n",
    "\n",
    "data.head(10)\n",
    "\n",
    "data.info()\n",
    "print(data[['user_time_spent_versionB_in_mins', 'user_time_spent_versionA_in_mins']].describe())"
   ]
  },
  {
   "cell_type": "markdown",
   "id": "80cf0c55",
   "metadata": {},
   "source": [
    "### Objective 2 : Identify the ratio of ad clicks over the average time spent watching ads"
   ]
  },
  {
   "cell_type": "code",
   "execution_count": null,
   "id": "fd820b0c",
   "metadata": {},
   "outputs": [
    {
     "name": "stdout",
     "output_type": "stream",
     "text": [
      "Ratio of ad clicks over avg time spent watching ads: 0.0027828973203860236\n"
     ]
    }
   ],
   "source": [
    "## Ratio of ad clicks over avg time spent watching ads\n",
    "data['ads_clicked_ratio'] = data['ads_clicked']/data['total_ads_watched_in_mins']\n",
    "print(f\"Ratio of ad clicks over avg time spent watching ads: {data['ads_clicked_ratio'].mean()}\") "
   ]
  },
  {
   "cell_type": "markdown",
   "id": "a2d93ba6",
   "metadata": {},
   "source": [
    "\n",
    "### Objective 3 : Calculate Max ad screen time ratio per date"
   ]
  },
  {
   "cell_type": "code",
   "execution_count": 48,
   "id": "13891780",
   "metadata": {},
   "outputs": [
    {
     "name": "stdout",
     "output_type": "stream",
     "text": [
      "          date  ad_screen_time_ratio\n",
      "0   2020-06-01              0.084209\n",
      "1   2020-06-02              0.082803\n",
      "2   2020-06-03              0.077504\n",
      "3   2020-06-04              0.099129\n",
      "4   2020-06-05              0.038243\n",
      "5   2020-06-06              0.074984\n",
      "6   2020-06-07              0.083880\n",
      "7   2020-06-08              0.086926\n",
      "8   2020-06-09              0.082972\n",
      "9   2020-06-10              0.094537\n",
      "10  2020-06-11              0.078152\n",
      "11  2020-06-12              0.078936\n",
      "12  2020-06-13              0.077687\n",
      "13  2020-06-14              0.071059\n",
      "14  2020-06-15              0.094633\n",
      "15  2020-06-16              0.099147\n",
      "16  2020-06-17              0.071640\n",
      "17  2020-06-18              0.090568\n",
      "18  2020-06-19              0.084760\n",
      "19  2020-06-20              0.087635\n",
      "20  2020-06-21              0.067173\n",
      "21  2020-06-22              0.097344\n",
      "22  2020-06-23              0.099785\n",
      "23  2020-06-24              0.087086\n",
      "24  2020-06-25              0.091588\n",
      "25  2020-06-26              0.076994\n",
      "26  2020-06-27              0.093004\n",
      "27  2020-06-28              0.089613\n",
      "28  2020-06-29              0.076631\n",
      "29  2020-06-30              0.091778\n"
     ]
    }
   ],
   "source": [
    "## Objective 2 : Max ad screen time ratio per date\n",
    "data['date'] = pd.to_datetime(data['date']).dt.date\n",
    "\n",
    "data['ad_screen_time_ratio'] = data['total_ads_watched_in_mins']/data['total_user_time_spent_in_mins']\n",
    "\n",
    "max_ratio_per_date = data.groupby('date')['ad_screen_time_ratio'].max().reset_index()\n",
    "\n",
    "print(max_ratio_per_date)"
   ]
  },
  {
   "cell_type": "code",
   "execution_count": 37,
   "id": "5c72ae4b",
   "metadata": {},
   "outputs": [
    {
     "data": {
      "text/plain": [
       "Text(0, 0.5, 'Max Ad Screen Time Ratio')"
      ]
     },
     "execution_count": 37,
     "metadata": {},
     "output_type": "execute_result"
    },
    {
     "data": {
      "image/png": "[encoded data removed]",
      "text/plain": [
       "<Figure size 1200x600 with 1 Axes>"
      ]
     },
     "metadata": {},
     "output_type": "display_data"
    }
   ],
   "source": [
    "plt.figure(figsize=(12,6))\n",
    "#sns.lineplot(data=max_ratio_per_date, x='date' ,y='ad_screen_time_ratio')\n",
    "sns.barplot(data=max_ratio_per_date, x='date' ,y='ad_screen_time_ratio')\n",
    "\n",
    "plt.title('Max Ad Screen Time Ratio Per Date') \n",
    "plt.xlabel('Date')\n",
    "plt.xticks(rotation=45)\n",
    "plt.ylabel('Max Ad Screen Time Ratio')"
   ]
  },
  {
   "cell_type": "code",
   "execution_count": 39,
   "id": "3d1177ba",
   "metadata": {},
   "outputs": [
    {
     "name": "stdout",
     "output_type": "stream",
     "text": [
      "Date with max ad screen time ratio: 2020-06-23, Ratio: 0.0997848610836138\n"
     ]
    }
   ],
   "source": [
    "max_row = max_ratio_per_date.loc[max_ratio_per_date['ad_screen_time_ratio'].idxmax()]\n",
    "print(f\"Date with max ad screen time ratio: {max_row['date']}, Ratio: {max_row['ad_screen_time_ratio']}\")"
   ]
  },
  {
   "cell_type": "markdown",
   "id": "e664d64d",
   "metadata": {},
   "source": [
    "### Objective 4 : Calculate Max ad screen time ratio per timeslot"
   ]
  },
  {
   "cell_type": "code",
   "execution_count": 40,
   "id": "b1b98145",
   "metadata": {},
   "outputs": [
    {
     "name": "stdout",
     "output_type": "stream",
     "text": [
      "Max ad screen time ratio per timeslot:\n",
      "     time_slot  ad_screen_time_ratio\n",
      "0  00:00-05:59              0.099785\n",
      "1  06:00-11:59              0.099147\n",
      "2  12:00-17:59              0.091929\n",
      "3  18:00-23:59              0.099129\n"
     ]
    }
   ],
   "source": [
    "max_ratio_per_timeslot = data.groupby('time_slot')['ad_screen_time_ratio'].max().reset_index()\n",
    "\n",
    "print(\"Max ad screen time ratio per timeslot:\")\n",
    "print(max_ratio_per_timeslot)"
   ]
  },
  {
   "cell_type": "code",
   "execution_count": 41,
   "id": "76cf2955",
   "metadata": {},
   "outputs": [
    {
     "name": "stdout",
     "output_type": "stream",
     "text": [
      "Time slot with max ad screen time ratio: 00:00-05:59, Ratio: 0.0997848610836138\n"
     ]
    }
   ],
   "source": [
    "max_ratio_timeslot_row = max_ratio_per_timeslot.loc[max_ratio_per_timeslot['ad_screen_time_ratio'].idxmax()]\n",
    "print(f\"Time slot with max ad screen time ratio: {max_ratio_timeslot_row['time_slot']}, Ratio: {max_ratio_timeslot_row['ad_screen_time_ratio']}\")"
   ]
  },
  {
   "cell_type": "markdown",
   "id": "30b9edc2",
   "metadata": {},
   "source": [
    "## Objective 5 : Compare viewership in versionA and B\n",
    "Find the consecutive 3 days in a week with min viewership in each version\n",
    "Compare min viewership from both versions"
   ]
  },
  {
   "cell_type": "code",
   "execution_count": 42,
   "id": "fd7477ac",
   "metadata": {},
   "outputs": [
    {
     "name": "stdout",
     "output_type": "stream",
     "text": [
      "          date  user_time_spent_versionA_in_mins  \\\n",
      "0   2020-06-01                            785110   \n",
      "1   2020-06-02                            703489   \n",
      "2   2020-06-03                            629264   \n",
      "3   2020-06-04                            918768   \n",
      "4   2020-06-05                            944310   \n",
      "5   2020-06-06                            714502   \n",
      "6   2020-06-07                            759528   \n",
      "7   2020-06-08                            522413   \n",
      "8   2020-06-09                            639629   \n",
      "9   2020-06-10                            551970   \n",
      "10  2020-06-11                            907510   \n",
      "11  2020-06-12                            791794   \n",
      "12  2020-06-13                            832020   \n",
      "13  2020-06-14                            552785   \n",
      "14  2020-06-15                            552273   \n",
      "15  2020-06-16                            866708   \n",
      "16  2020-06-17                            686400   \n",
      "17  2020-06-18                            707573   \n",
      "18  2020-06-19                            578252   \n",
      "19  2020-06-20                            593277   \n",
      "20  2020-06-21                            834044   \n",
      "21  2020-06-22                            655418   \n",
      "22  2020-06-23                           1025918   \n",
      "23  2020-06-24                            810887   \n",
      "24  2020-06-25                            778545   \n",
      "25  2020-06-26                            704225   \n",
      "26  2020-06-27                            741951   \n",
      "27  2020-06-28                            890162   \n",
      "28  2020-06-29                            924849   \n",
      "29  2020-06-30                            922258   \n",
      "\n",
      "    user_time_spent_versionB_in_mins  \n",
      "0                             788150  \n",
      "1                             840864  \n",
      "2                            1045722  \n",
      "3                            1065140  \n",
      "4                             543251  \n",
      "5                             611980  \n",
      "6                             554679  \n",
      "7                             940346  \n",
      "8                             808052  \n",
      "9                             957727  \n",
      "10                            712441  \n",
      "11                            626909  \n",
      "12                            620826  \n",
      "13                            554879  \n",
      "14                            520940  \n",
      "15                            669754  \n",
      "16                            616677  \n",
      "17                            728819  \n",
      "18                            536716  \n",
      "19                            965792  \n",
      "20                            480853  \n",
      "21                            622115  \n",
      "22                            670911  \n",
      "23                            917938  \n",
      "24                            654172  \n",
      "25                            657406  \n",
      "26                            767170  \n",
      "27                            452938  \n",
      "28                            705078  \n",
      "29                            777027  \n",
      "       user_time_spent_versionA_in_mins  user_time_spent_versionB_in_mins\n",
      "count                      3.000000e+01                      3.000000e+01\n",
      "mean                       7.508611e+05                      7.138424e+05\n",
      "std                        1.379961e+05                      1.674102e+05\n",
      "min                        5.224130e+05                      4.529380e+05\n",
      "25%                        6.435762e+05                      6.131542e+05\n",
      "50%                        7.507395e+05                      6.703325e+05\n",
      "75%                        8.585420e+05                      8.030765e+05\n",
      "max                        1.025918e+06                      1.065140e+06\n"
     ]
    }
   ],
   "source": [
    "viewership_by_date = data.groupby('date').agg({\"user_time_spent_versionA_in_mins\": \"sum\", \"user_time_spent_versionB_in_mins\": \"sum\"}).reset_index()\n",
    "#[['user_time_spent_versionA_in_mins', 'user_time_spent_versionB_in_mins']].sum().reset_index()\n",
    "print(viewership_by_date)\n",
    "\n",
    "print(viewership_by_date.describe())"
   ]
  },
  {
   "cell_type": "code",
   "execution_count": 43,
   "id": "3923aed3",
   "metadata": {},
   "outputs": [
    {
     "data": {
      "image/png": "[encoded data removed]",
      "text/plain": [
       "<Figure size 640x480 with 2 Axes>"
      ]
     },
     "metadata": {},
     "output_type": "display_data"
    }
   ],
   "source": [
    "fig, ax = plt.subplots()\n",
    "sns.lineplot(data=viewership_by_date, x='date', y='user_time_spent_versionA_in_mins', ax=ax, label='Version A')\n",
    "ax.set_xlabel('Date')\n",
    "ax.set_ylabel('Viewership Version A')\n",
    "plt.xticks(rotation=45)\n",
    "\n",
    "ax2 = ax.twinx()\n",
    "sns.lineplot(data=viewership_by_date, x='date', y='user_time_spent_versionB_in_mins', ax=ax2, color='orange', label='Version B')\n",
    "ax2.set_ylabel('Viewership Version B')\n",
    "\n",
    "# Combine legends from both axes\n",
    "lines, labels = ax.get_legend_handles_labels()\n",
    "lines2, labels2 = ax2.get_legend_handles_labels()\n",
    "ax2.legend(lines + lines2, labels + labels2, loc='upper right')\n",
    "\n",
    "plt.title('Viewership Comparison Between Version A and B')\n",
    "plt.show()"
   ]
  },
  {
   "cell_type": "markdown",
   "id": "f410e161",
   "metadata": {},
   "source": [
    "My observation from the above dual-axis graph - Due to some factors (not covered as part of this analysis), viewership of version A and version B seem to be inversely proportional. "
   ]
  },
  {
   "cell_type": "code",
   "execution_count": 44,
   "id": "3399ed58",
   "metadata": {},
   "outputs": [
    {
     "name": "stdout",
     "output_type": "stream",
     "text": [
      "          date versionA versionB\n",
      "0   2020-06-01  2117863  2674736\n",
      "1   2020-06-02  2251521  2951726\n",
      "2   2020-06-03  2492342  2654113\n",
      "3   2020-06-04  2577580  2220371\n",
      "4   2020-06-05  2418340  1709910\n",
      "5   2020-06-06  1996443  2107005\n",
      "6   2020-06-07  1921570  2303077\n",
      "7   2020-06-08  1714012  2706125\n",
      "8   2020-06-09  2099109  2478220\n",
      "9   2020-06-10  2251274  2297077\n",
      "10  2020-06-11  2531324  1960176\n",
      "11  2020-06-12  2176599  1802614\n",
      "12  2020-06-13  1937078  1696645\n",
      "13  2020-06-14  1971766  1745573\n",
      "14  2020-06-15  2105381  1807371\n",
      "15  2020-06-16  2260681  2015250\n",
      "16  2020-06-17  1972225  1882212\n",
      "17  2020-06-18  1879102  2231327\n",
      "18  2020-06-19  2005573  1983361\n",
      "19  2020-06-20  2082739  2068760\n",
      "20  2020-06-21  2515380  1773879\n",
      "21  2020-06-22  2492223  2210964\n",
      "22  2020-06-23  2615350  2243021\n",
      "23  2020-06-24  2293657  2229516\n",
      "24  2020-06-25  2224721  2078748\n",
      "25  2020-06-26  2336338  1877514\n",
      "26  2020-06-27  2556962  1925186\n",
      "27  2020-06-28  2737269  1935043\n"
     ]
    }
   ],
   "source": [
    "view_in_week = pd.DataFrame(columns=['date', 'versionA', 'versionB'])\n",
    "for index, dt1 in viewership_by_date.iterrows():\n",
    "    view_in_week.at[index,'date'] = viewership_by_date.at[index, 'date']\n",
    "    view_in_week.at[index,'versionA'] = (viewership_by_date.at[index, 'user_time_spent_versionA_in_mins']  +\n",
    "                                viewership_by_date.at[index+1, 'user_time_spent_versionA_in_mins']  +\n",
    "                                viewership_by_date.at[index+2, 'user_time_spent_versionA_in_mins'] \n",
    "                               )\n",
    "    \n",
    "    view_in_week.at[index,'versionB'] = (viewership_by_date.at[index, 'user_time_spent_versionB_in_mins']  +\n",
    "                                viewership_by_date.at[index+1, 'user_time_spent_versionB_in_mins']  +\n",
    "                                viewership_by_date.at[index+2, 'user_time_spent_versionB_in_mins'] \n",
    "                               )\n",
    "    \n",
    "    if index+2 >= len(viewership_by_date)-1:\n",
    "        break\n",
    "    \n",
    "print(view_in_week)"
   ]
  },
  {
   "cell_type": "code",
   "execution_count": 45,
   "id": "6c2fdfa9",
   "metadata": {},
   "outputs": [
    {
     "name": "stdout",
     "output_type": "stream",
     "text": [
      "Minimum viewership for 3 consecutive days in version A is on : 2020-06-08, 2020-06-09, 2020-06-10\n",
      "Minimum viewership for 3 consecutive days in version B is on : 2020-06-13, 2020-06-14, 2020-06-15\n"
     ]
    }
   ],
   "source": [
    "# Find the consecutive 3 days in a week with min viewership in each version\n",
    "from datetime import timedelta\n",
    "\n",
    "min_view_verA = view_in_week.at[view_in_week['versionA'].idxmin(),'date']\n",
    "\n",
    "date1 = pd.to_datetime(min_view_verA) + timedelta(days=1)\n",
    "date2 = pd.to_datetime(min_view_verA) + timedelta(days=2)\n",
    "\n",
    "print(f\"Minimum viewership for 3 consecutive days in version A is on : {min_view_verA}, {date1.date()}, {date2.date()}\")\n",
    "\n",
    "min_view_verB = view_in_week.at[view_in_week['versionB'].idxmin(),'date']\n",
    "\n",
    "date1 = pd.to_datetime(min_view_verB) + timedelta(days=1)\n",
    "date2 = pd.to_datetime(min_view_verB) + timedelta(days=2)\n",
    "\n",
    "print(f\"Minimum viewership for 3 consecutive days in version B is on : {min_view_verB}, {date1.date()}, {date2.date()}\")\n"
   ]
  },
  {
   "cell_type": "markdown",
   "id": "f2511cc6",
   "metadata": {},
   "source": [
    "### Objective 5: Number of days with more ads clicked in A than B in avg"
   ]
  },
  {
   "cell_type": "code",
   "execution_count": 46,
   "id": "bc3a7bad",
   "metadata": {},
   "outputs": [
    {
     "name": "stdout",
     "output_type": "stream",
     "text": [
      "Number of days with more ads clicked in A than B : 18\n"
     ]
    }
   ],
   "source": [
    "ads_clicked_A_vs_B = data.groupby('date').agg({\"ads_clicked_versionA\": \"sum\", \"ads_clicked_versionB\": \"sum\"}).reset_index()\n",
    "\n",
    "ads_clicked_A_vs_B['versionA_is_greater'] = ads_clicked_A_vs_B['ads_clicked_versionA'] > ads_clicked_A_vs_B['ads_clicked_versionB']\n",
    "\n",
    "print(f\"Number of days with more ads clicked in A than B : {ads_clicked_A_vs_B['versionA_is_greater'].value_counts()[True]}\")"
   ]
  },
  {
   "cell_type": "markdown",
   "id": "d6d5d36a",
   "metadata": {},
   "source": [
    "## Objective 6 : Time_slot with lowest percentage of ads watched over all ads watched"
   ]
  },
  {
   "cell_type": "code",
   "execution_count": 47,
   "id": "ad0e1396",
   "metadata": {},
   "outputs": [
    {
     "name": "stdout",
     "output_type": "stream",
     "text": [
      "Time slot with lowest percentage of ads watched:\n",
      "00:00-05:59\n"
     ]
    }
   ],
   "source": [
    "overall_ads_watched = data['total_ads_watched_in_mins'].sum()\n",
    "\n",
    "ads_watched = data.groupby('time_slot').agg({'total_ads_watched_in_mins': 'sum'}).reset_index()\n",
    "ads_watched['pcnt_ads_watched'] = ((ads_watched['total_ads_watched_in_mins']/overall_ads_watched) * 100)\n",
    "#print(ads_watched)\n",
    "\n",
    "print(\"Time slot with lowest percentage of ads watched:\")\n",
    "print(ads_watched.at[ads_watched['pcnt_ads_watched'].idxmin(), 'time_slot'])"
   ]
  },
  {
   "cell_type": "markdown",
   "id": "006b91d6",
   "metadata": {},
   "source": [
    "Because few people watch overnight, that slot has the lowest share of total ad minutes—but within those sessions, ads occupy a larger share of viewing time than in other slots."
   ]
  },
  {
   "cell_type": "markdown",
   "id": "4cd238df",
   "metadata": {},
   "source": [
    "### Quick findings\n",
    "\n",
    "- **Timeframe:** The data covers **June 1–30, 2020** (30 days).\n",
    "\n",
    "- **Typical day (watch time):**\n",
    "  - **Version A:** about **750k minutes/day**\n",
    "  - **Version B:** about **714k minutes/day**\n",
    "  > In short, people watched a little more on **Version A** than on **Version B** on an average day.\n",
    "\n",
    "- **Busiest days:**\n",
    "  - **Most total minutes:** **June 4, 2020** (~1.98M minutes)\n",
    "  - **Version B peak:** **June 4, 2020**\n",
    "  - **Version A peak:** **June 23, 2020**\n",
    "\n",
    "- On 18 of 30 days, Version A had **more ad clicks** than Version B.\n",
    "\n",
    "- **Overnight vs. the rest:**  \n",
    "  - **Overnight (00:00–05:59)** accounts for the **smallest share of all ad minutes watched** (very few people watch then).  \n",
    "  - At the same time, it has the **highest ad load** (ads take a bigger slice of the small amount of viewing that happens at night).  \n",
    "  > These are not contradictory—they use different denominators: one is the **share of total ad minutes** (volume), the other is **ad minutes vs. viewing minutes** (ratio).\n"
   ]
  }
 ],
 "metadata": {
  "kernelspec": {
   "display_name": "Python 3",
   "language": "python",
   "name": "python3"
  },
  "language_info": {
   "codemirror_mode": {
    "name": "ipython",
    "version": 3
   },
   "file_extension": ".py",
   "mimetype": "text/x-python",
   "name": "python",
   "nbconvert_exporter": "python",
   "pygments_lexer": "ipython3",
   "version": "3.13.7"
  }
 },
 "nbformat": 4,
 "nbformat_minor": 5
}
